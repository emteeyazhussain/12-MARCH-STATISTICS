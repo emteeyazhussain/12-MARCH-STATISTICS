{
 "cells": [
  {
   "cell_type": "code",
   "execution_count": 4,
   "id": "44811098-2fb4-4cc6-b54c-0ec3f076524b",
   "metadata": {},
   "outputs": [
    {
     "name": "stdout",
     "output_type": "stream",
     "text": [
      "The 95% confidence interval is: (49.01, 50.99)\n"
     ]
    }
   ],
   "source": [
    "# Q1.\n",
    "import scipy.stats as stats\n",
    "\n",
    "sample_mean = 50\n",
    "sample_std = 5\n",
    "n = 100   # assuming sample size of 100\n",
    "\n",
    "# calculate standard error\n",
    "se = sample_std / (n**0.5)\n",
    "\n",
    "# calculate t-value for 95% confidence interval and degrees of freedom = n-1\n",
    "t_value = stats.t.ppf(0.975, df=n-1)\n",
    "\n",
    "# calculate lower and upper bounds of confidence interval\n",
    "lower = sample_mean - (t_value * se)\n",
    "upper = sample_mean + (t_value * se)\n",
    "\n",
    "print(\"The 95% confidence interval is: ({:.2f}, {:.2f})\".format(lower, upper))\n"
   ]
  },
  {
   "cell_type": "markdown",
   "id": "e82be75f-9f79-4005-8f35-c1a567adc22d",
   "metadata": {
    "tags": []
   },
   "source": [
    "# Q2. Conduct a chi-square goodness of fit test to determine if the distribution of colors of M&Ms in a bag\n",
    "# matches the expected distribution of 20% blue, 20% orange, 20% green, 10% yellow, 10% red, and 20%\n",
    "# brown. Use Python to perform the test with a significance level of 0.05.\n"
   ]
  },
  {
   "cell_type": "code",
   "execution_count": 11,
   "id": "a6ff9dca-a819-437d-9615-fa37f2a291f0",
   "metadata": {},
   "outputs": [],
   "source": [
    "import numpy as np\n",
    "import scipy.stats as stats \n",
    "\n",
    "# observed frequencies\n",
    "observed = np.array([10, 20, 15, 5, 8, 12])\n",
    "\n",
    "# expected frequencies based on the hypothesized distribution\n",
    "expected = np.array([0.2, 0.2, 0.2, 0.1, 0.1, 0.2]) * sum(observed)\n"
   ]
  },
  {
   "cell_type": "code",
   "execution_count": 18,
   "id": "ab4fe85a-9f7d-401f-9dde-fac5c4e2ded8",
   "metadata": {},
   "outputs": [
    {
     "data": {
      "text/plain": [
       "(70.0, 70)"
      ]
     },
     "execution_count": 18,
     "metadata": {},
     "output_type": "execute_result"
    }
   ],
   "source": [
    "sum(expected),sum(observed)"
   ]
  },
  {
   "cell_type": "code",
   "execution_count": 24,
   "id": "23f0d278-180f-4c9f-a650-c4433f08a7fc",
   "metadata": {},
   "outputs": [],
   "source": [
    "## Chi-Square Goodness Of Fit Test\n",
    "chisquare_test_statistic,p_value=stats.chisquare(observed,expected)\n",
    "\n"
   ]
  },
  {
   "cell_type": "code",
   "execution_count": 25,
   "id": "33f66cbb-3505-4940-9ad3-eae080858cf3",
   "metadata": {},
   "outputs": [
    {
     "data": {
      "text/plain": [
       "(4.7857142857142865, 0.4425877593549057)"
      ]
     },
     "execution_count": 25,
     "metadata": {},
     "output_type": "execute_result"
    }
   ],
   "source": [
    "chisquare_test_statistic,p_value"
   ]
  },
  {
   "cell_type": "code",
   "execution_count": 26,
   "id": "5163a904-1515-41f6-a92f-f3b39da56ad6",
   "metadata": {},
   "outputs": [],
   "source": [
    "##find the critical value"
   ]
  },
  {
   "cell_type": "code",
   "execution_count": 29,
   "id": "caca2cdc-9749-4b2c-94a9-3848c5504ae5",
   "metadata": {},
   "outputs": [],
   "source": [
    "significance_value = 0.5\n",
    "dof = len(expected) - 1\n",
    "\n",
    "critical_value= stats.chi2.ppf(1-significance_value,dof)"
   ]
  },
  {
   "cell_type": "code",
   "execution_count": 30,
   "id": "f4b19eae-a6d7-4ca8-9035-dd9bb5b2fe73",
   "metadata": {},
   "outputs": [
    {
     "data": {
      "text/plain": [
       "4.351460191095526"
      ]
     },
     "execution_count": 30,
     "metadata": {},
     "output_type": "execute_result"
    }
   ],
   "source": [
    "critical_value"
   ]
  },
  {
   "cell_type": "code",
   "execution_count": 31,
   "id": "e8e8d121-81b1-4efd-942b-5a2983b945b5",
   "metadata": {},
   "outputs": [
    {
     "name": "stdout",
     "output_type": "stream",
     "text": [
      "Reject the null hypothesis\n"
     ]
    }
   ],
   "source": [
    "if chisquare_test_statistic > critical_value:\n",
    "    print(\"Reject the null hypothesis\")\n",
    "else:\n",
    "    print(\"Accept the null hypothesis\")"
   ]
  },
  {
   "cell_type": "code",
   "execution_count": 33,
   "id": "178fcbab-4fc5-40ab-9464-69b30c068653",
   "metadata": {},
   "outputs": [
    {
     "name": "stdout",
     "output_type": "stream",
     "text": [
      "Chi-square statistic: 4.79\n",
      "p-value: 0.4426\n",
      "Fail to reject the null hypothesis. The distribution of colors is as expected.\n"
     ]
    }
   ],
   "source": [
    "                                          # or \n",
    "\n",
    "\n",
    "\n",
    "import scipy.stats as stats\n",
    "import numpy as np\n",
    "\n",
    "# observed frequencies\n",
    "observed = np.array([10, 20, 15, 5, 8, 12])\n",
    "\n",
    "# expected frequencies based on the hypothesized distribution\n",
    "expected = np.array([0.2, 0.2, 0.2, 0.1, 0.1, 0.2]) * sum(observed)\n",
    "\n",
    "# calculate chi-square statistic and p-value\n",
    "chi_sq_stat, p_value = stats.chisquare(observed, expected)\n",
    "\n",
    "# print results\n",
    "print(\"Chi-square statistic: {:.2f}\".format(chi_sq_stat))\n",
    "print(\"p-value: {:.4f}\".format(p_value))\n",
    "\n",
    "# compare p-value to significance level alpha\n",
    "alpha = 0.05\n",
    "if p_value < alpha:\n",
    "    print(\"Reject the null hypothesis. The distribution of colors is not as expected.\")\n",
    "else:\n",
    "    print(\"Fail to reject the null hypothesis. The distribution of colors is as expected.\")\n"
   ]
  },
  {
   "cell_type": "code",
   "execution_count": 1,
   "id": "5e45004e-2596-49af-afd1-af0b6dfe0beb",
   "metadata": {},
   "outputs": [
    {
     "name": "stdout",
     "output_type": "stream",
     "text": [
      "Chi-square statistic: 5.83\n",
      "p-value: 0.0541\n"
     ]
    }
   ],
   "source": [
    "# Q3.\n",
    "import scipy.stats as stats\n",
    "import numpy as np\n",
    "\n",
    "# create the contingency table\n",
    "contingency_table = np.array([[20, 15], [10, 25], [15, 20]])\n",
    "\n",
    "# calculate chi-square statistic and p-value\n",
    "chi_sq_stat, p_value, dof, expected = stats.chi2_contingency(contingency_table)\n",
    "\n",
    "# print results\n",
    "print(\"Chi-square statistic: {:.2f}\".format(chi_sq_stat))\n",
    "print(\"p-value: {:.4f}\".format(p_value))\n"
   ]
  },
  {
   "cell_type": "code",
   "execution_count": 2,
   "id": "a2cda5d8-4ec1-4187-93b0-953095e6bfa9",
   "metadata": {},
   "outputs": [
    {
     "name": "stdout",
     "output_type": "stream",
     "text": [
      "95% confidence interval: (0.0915, 0.1485)\n"
     ]
    }
   ],
   "source": [
    "#Q4.\n",
    "import scipy.stats as stats\n",
    "import math\n",
    "\n",
    "# define sample proportion and sample size\n",
    "p_hat = 0.12\n",
    "n = 500\n",
    "\n",
    "# calculate z-score for 95% confidence\n",
    "z = stats.norm.ppf(0.975)\n",
    "\n",
    "# calculate standard error\n",
    "se = math.sqrt(p_hat*(1-p_hat)/n)\n",
    "\n",
    "# calculate confidence interval\n",
    "lower = p_hat - z*se\n",
    "upper = p_hat + z*se\n",
    "\n",
    "# print results\n",
    "print(\"95% confidence interval: ({:.4f}, {:.4f})\".format(lower, upper))\n"
   ]
  },
  {
   "cell_type": "raw",
   "id": "776e9636-37fc-4f81-81fc-ad71b52df425",
   "metadata": {},
   "source": [
    "Q5. Calculate the 90% confidence interval for a sample of data with a mean of 75 and a standard deviation\n",
    "of 12 using Python. Interpret the results."
   ]
  },
  {
   "cell_type": "code",
   "execution_count": 14,
   "id": "93cfcd7e-6038-4c40-9a43-56dc88ecfd48",
   "metadata": {},
   "outputs": [],
   "source": [
    "import scipy.stats as stats"
   ]
  },
  {
   "cell_type": "code",
   "execution_count": 15,
   "id": "2e934f97-1030-4689-83db-33146f3c93b1",
   "metadata": {},
   "outputs": [],
   "source": [
    "sample_mean = 75\n",
    "sample_std = 12\n",
    "n =  100   #assuming sample size of 100"
   ]
  },
  {
   "cell_type": "code",
   "execution_count": 16,
   "id": "2eed97e2-99f6-406e-88d1-d669c345e6e7",
   "metadata": {},
   "outputs": [],
   "source": [
    "se = sample_std/(n**0.5)"
   ]
  },
  {
   "cell_type": "code",
   "execution_count": 17,
   "id": "7df81d61-ad95-4e03-bce9-9af08af475ad",
   "metadata": {},
   "outputs": [],
   "source": [
    "# calculate t-value for 90% confidence interval and degrees of freedom = n-1\n",
    "t_value = stats.t.ppf(0.95, df=n-1)"
   ]
  },
  {
   "cell_type": "code",
   "execution_count": 18,
   "id": "6ab21a77-e007-4697-970f-bad1db2a5ee3",
   "metadata": {},
   "outputs": [
    {
     "name": "stdout",
     "output_type": "stream",
     "text": [
      "The 90% confidence interval is: (73.01, 76.99)\n"
     ]
    }
   ],
   "source": [
    "\n",
    "# calculate lower and upper bounds of confidence interval\n",
    "lower = sample_mean - (t_value * se)\n",
    "upper = sample_mean + (t_value * se)\n",
    "\n",
    "print(\"The 90% confidence interval is: ({:.2f}, {:.2f})\".format(lower, upper))"
   ]
  },
  {
   "cell_type": "code",
   "execution_count": null,
   "id": "57b7e33f-52c0-40c7-94fe-9bf82f13a8bc",
   "metadata": {},
   "outputs": [],
   "source": []
  },
  {
   "cell_type": "code",
   "execution_count": 13,
   "id": "257ae908-401c-4332-8b6d-edf21667f924",
   "metadata": {},
   "outputs": [
    {
     "name": "stdout",
     "output_type": "stream",
     "text": [
      "90% confidence interval: (73.01, 76.99)\n"
     ]
    }
   ],
   "source": [
    "\n",
    "                                            # or\n",
    "from scipy.stats import t\n",
    "\n",
    "# sample statistics\n",
    "mean = 75\n",
    "std_dev = 12\n",
    "sample_size = 100\n",
    "\n",
    "# t-value for 90% confidence interval and 49 degrees of freedom\n",
    "t_value = t.ppf(0.95, sample_size-1)\n",
    "\n",
    "# calculate the margin of error\n",
    "margin_of_error = t_value * std_dev / (sample_size**0.5)\n",
    "\n",
    "# calculate the confidence interval\n",
    "lower_ci = mean - margin_of_error\n",
    "upper_ci = mean + margin_of_error\n",
    "\n",
    "# print the results\n",
    "print(\"90% confidence interval: ({:.2f}, {:.2f})\".format(lower_ci, upper_ci))\n"
   ]
  },
  {
   "cell_type": "code",
   "execution_count": 19,
   "id": "45cba554-c695-486b-987f-ccdec9a05804",
   "metadata": {},
   "outputs": [
    {
     "data": {
      "image/png": "[encoded data removed]",
      "text/plain": [
       "<Figure size 800x600 with 1 Axes>"
      ]
     },
     "metadata": {},
     "output_type": "display_data"
    }
   ],
   "source": [
    "# Q6.\n",
    "import numpy as np\n",
    "import matplotlib.pyplot as plt\n",
    "from scipy.stats import chi2\n",
    "\n",
    "# Set degrees of freedom\n",
    "df = 10\n",
    "\n",
    "# Define x range\n",
    "x = np.linspace(chi2.ppf(0.01, df), chi2.ppf(0.99, df), 100)\n",
    "\n",
    "# Create figure and axes objects\n",
    "fig, ax = plt.subplots(figsize=(8, 6))\n",
    "\n",
    "# Plot chi-square PDF\n",
    "ax.plot(x, chi2.pdf(x, df), 'r-', lw=2, alpha=0.6, label='chi2 pdf')\n",
    "\n",
    "# Shade area corresponding to chi-square statistic of 15\n",
    "x_shade = np.linspace(chi2.ppf(0.01, df), chi2.ppf(0.95, df), 100)\n",
    "ax.fill_between(x_shade, chi2.pdf(x_shade, df), 0, where=(x_shade >= 15), alpha=0.3)\n",
    "\n",
    "# Set x and y axis labels\n",
    "ax.set_xlabel('Chi-Square Statistic')\n",
    "ax.set_ylabel('Probability Density')\n",
    "\n",
    "# Add title and legend\n",
    "ax.set_title('Chi-Square Distribution with 10 Degrees of Freedom')\n",
    "ax.legend(loc='best')\n",
    "\n",
    "# Show plot\n",
    "plt.show()\n"
   ]
  },
  {
   "cell_type": "markdown",
   "id": "c1c9c62b-8e92-4e42-abc4-3ac38280eef3",
   "metadata": {},
   "source": [
    "Q7.\n",
    "To calculate the 99% confidence interval for the true proportion of people in the population who prefer Coke, we can use the following formula:\n",
    "\n",
    "CI = p ± z* * sqrt((p * (1 - p)) / n)\n",
    "\n",
    "where p is the sample proportion, n is the sample size, z* is the critical value from the standard normal distribution for the desired confidence level, and sqrt is the square root function.\n",
    "\n",
    "In this case, the sample proportion is p = 520/1000 = 0.52, the sample size is n = 1000, and the desired confidence level is 99%. The critical value for a two-tailed test with a confidence level of 99% is z* = 2.576.\n",
    "\n",
    "Using Python, we can calculate the confidence interval as follows:"
   ]
  },
  {
   "cell_type": "code",
   "execution_count": 23,
   "id": "7cf6f5b4-778b-495a-9fb0-e5f6b58b59ec",
   "metadata": {},
   "outputs": [
    {
     "name": "stdout",
     "output_type": "stream",
     "text": [
      "99% Confidence Interval: (0.4793, 0.5607)\n"
     ]
    }
   ],
   "source": [
    "import numpy as np\n",
    "from scipy.stats import norm\n",
    "\n",
    "# Set sample size and proportion\n",
    "n = 1000\n",
    "p = 0.52\n",
    "\n",
    "# Set confidence level and calculate critical z-value\n",
    "conf_level = 0.99\n",
    "z_crit = norm.ppf((1 + conf_level) / 2)\n",
    "\n",
    "# Calculate margin of error\n",
    "margin_err = z_crit * np.sqrt(p * (1 - p) / n)\n",
    "\n",
    "# Calculate confidence interval\n",
    "lower_bound = p - margin_err\n",
    "upper_bound = p + margin_err\n",
    "\n",
    "# Print results\n",
    "print(f\"99% Confidence Interval: ({lower_bound:.4f}, {upper_bound:.4f})\")\n"
   ]
  },
  {
   "cell_type": "markdown",
   "id": "df5045b2-8c82-4b5d-b076-f3e3167df7ed",
   "metadata": {},
   "source": [
    "Q8.To conduct a chi-square goodness of fit test for this problem, we need to first specify the null and alternative hypotheses. In this case, the null hypothesis is that the observed frequencies match the expected frequencies of a fair coin, and the alternative hypothesis is that they do not match.\n",
    "\n",
    "The expected frequencies for a fair coin can be calculated as follows: for each flip, there is a 50% chance of getting tails and a 50% chance of getting heads. Therefore, the expected number of tails in 100 flips is 50, and the expected number of heads is also 50.\n",
    "\n",
    "We can now calculate the chi-square test statistic using the formula:\n",
    "\n",
    "χ2 = Σ((O - E)2 / E)\n",
    "\n",
    "where O is the observed frequency, E is the expected frequency, and Σ is the sum of the squared differences between the observed and expected frequencies, divided by the expected frequencies.\n",
    "\n",
    "Using Python, we can calculate the chi-square test statistic and the corresponding p-value as follows:"
   ]
  },
  {
   "cell_type": "code",
   "execution_count": 26,
   "id": "a0150e0d-77ee-48d1-9b72-7085a1c93824",
   "metadata": {},
   "outputs": [
    {
     "name": "stdout",
     "output_type": "stream",
     "text": [
      "The chi-square test statistic is: 1.0\n",
      "The p-value is: 0.3173\n"
     ]
    }
   ],
   "source": [
    "\n",
    "import scipy.stats as stats\n",
    "\n",
    "# Set observed frequencies\n",
    "observed = [45, 55]\n",
    "\n",
    "# Set expected frequencies\n",
    "expected = [50, 50]\n",
    "\n",
    "# Calculate chi-square test statistic and p-value\n",
    "chi2, p_value = stats.chisquare(observed, expected)\n",
    "\n",
    "# Print results\n",
    "print(\"The chi-square test statistic is:\", round(chi2, 2))\n",
    "print(\"The p-value is:\", round(p_value, 4))"
   ]
  },
  {
   "cell_type": "markdown",
   "id": "72c06927-9031-4754-b23e-f6a20b558a07",
   "metadata": {},
   "source": [
    "Q9.We can now calculate the chi-square statistic using the formula: \n",
    "\n",
    "chi-square = Σ((observed frequency - expected frequency)² / expected frequency).\n",
    "\n",
    "Using this formula, we get:\n",
    "\n",
    "chi-square = [(60-45)²/45] + [(140-155)²/155] + [(30-45)²/45] + [(170-155)²/155]\n",
    "= 5.28\n",
    "\n",
    "The degrees of freedom for the chi-square test are (number of rows - 1) * (number of columns - 1) = (2-1) * (2-1) = 1.\n",
    "\n",
    "Using a significance level of 0.05 and a degrees of freedom of 1, we can find the critical value of chi-square from a chi-square distribution table or calculator. The critical value is 3.84.\n",
    "\n",
    "Since our calculated chi-square value (5.28) is greater than the critical value (3.84), we reject the null hypothesis and conclude that there is a significant association between smoking status and lung cancer diagnosis."
   ]
  },
  {
   "cell_type": "markdown",
   "id": "effcd463-5e1f-4e6b-bd1c-9ee24c314a82",
   "metadata": {},
   "source": [
    "\n",
    "\n",
    "Q10.\n",
    "\n",
    "To conduct a chi-square test for independence, we need to set up the null and alternative hypotheses:\n",
    "\n",
    "Null hypothesis (H0): There is no association between chocolate preference and country of origin.\n",
    "\n",
    "Alternative hypothesis (Ha): There is an association between chocolate preference and country of origin.\n",
    "\n",
    "The test statistic for the chi-square test can be calculated using the formula:\n",
    "\n",
    "\n",
    "chi-square = Σ (observed frequency - expected frequency)^2 / expected frequency\n",
    "\n",
    "where Σ represents the sum of all cells in the contingency table, and the expected frequency for each cell can be calculated using the formula:\n",
    "\n",
    "expected frequency = (row total * column total) / grand total\n",
    "\n",
    "\n",
    "\n",
    "\n",
    "\n",
    "The expected frequencies for each cell are:\n",
    "\n",
    "Milk Chocolate\tDark Chocolate\tWhite Chocolate\tTotal \n",
    "\n",
    "US\t212.5\t162.5\t125\t500\n",
    "\n",
    "UK\t212.5\t162.5\t125\t500\n",
    "\n",
    "Total\t425\t325\t250\t1000\n",
    "\n",
    "We can then calculate the chi-square test statistic using the observed and expected frequencies:\n",
    "\n",
    "chi-square = [(200-212.5)^2/212.5] + [(150-162.5)^2/162.5] + [(150-125)^2/125] + [(225-212.5)^2/212.5] + [(175-162.5)^2/162.5] + [(100-125)^2/125]\n",
    "= 7.33\n",
    "\n",
    "The degrees of freedom for the chi-square test are (number of rows - 1) * (number of columns - 1) = 2 * 2 = 4. Using a chi-square distribution table or calculator, we can find the critical value for a significance level of 0.05 and 4 degrees of freedom. The critical value is 9.488.\n",
    "\n",
    "Since our calculated chi-square value (7.33) is less than the critical value (9.488), we fail to reject the null hypothesis. Therefore, we do not have enough evidence to conclude that there is a significant association between chocolate preference and country of origin at a significance level of 0.05.\n",
    "\n",
    "\n",
    "\n"
   ]
  },
  {
   "cell_type": "markdown",
   "id": "811bc909-1f1d-409e-99cb-bc182b3fca2f",
   "metadata": {},
   "source": [
    "Q11.o conduct a hypothesis test to determine if the population mean is significantly different from 70, we need to set up the null and alternative hypotheses:\n",
    "\n",
    "Null hypothesis (H0): The population mean is equal to 70.\n",
    "Alternative hypothesis (Ha): The population mean is not equal to 70.\n",
    "We will use a two-tailed t-test with a significance level of 0.05. Since the sample size is less than 30, we will use the t-distribution instead of the normal distribution.\n",
    "\n",
    "The test statistic for the t-test can be calculated using the formula:\n",
    "\n",
    "t = (sample mean - hypothesized population mean) / (sample standard deviation / sqrt(sample size))\n",
    "\n",
    "Substituting the values given in the problem, we get:\n",
    "\n",
    "t = (72 - 70) / (10 / sqrt(30))\n",
    "= 1.549\n",
    "\n",
    "The degrees of freedom for the t-test are (sample size - 1) = 29. Using a t-distribution table or calculator, we can find the critical values for a two-tailed test with a significance level of 0.05 and 29 degrees of freedom. The critical values are -2.045 and 2.045.\n",
    "\n",
    "Since our calculated t-value (1.549) is within the range of -2.045 to 2.045, we fail to reject the null hypothesis. Therefore, we do not have enough evidence to conclude that the population mean is significantly different from 70 at a significance level of 0.05."
   ]
  },
  {
   "cell_type": "code",
   "execution_count": null,
   "id": "9a50f4e2-0739-4f55-8a5a-79f7bf30bd4b",
   "metadata": {},
   "outputs": [],
   "source": []
  }
 ],
 "metadata": {
  "kernelspec": {
   "display_name": "Python 3 (ipykernel)",
   "language": "python",
   "name": "python3"
  },
  "language_info": {
   "codemirror_mode": {
    "name": "ipython",
    "version": 3
   },
   "file_extension": ".py",
   "mimetype": "text/x-python",
   "name": "python",
   "nbconvert_exporter": "python",
   "pygments_lexer": "ipython3",
   "version": "3.10.8"
  }
 },
 "nbformat": 4,
 "nbformat_minor": 5
}
